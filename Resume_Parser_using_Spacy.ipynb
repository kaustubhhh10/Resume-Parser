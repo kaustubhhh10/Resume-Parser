{
  "cells": [
    {
      "cell_type": "code",
      "execution_count": 1,
      "metadata": {
        "colab": {
          "base_uri": "https://localhost:8080/"
        },
        "id": "DdQKWci82znt",
        "outputId": "fbe16f8c-0632-4ab7-a98c-7471a827dd6a"
      },
      "outputs": [
        {
          "name": "stdout",
          "output_type": "stream",
          "text": [
            "Collecting PyMuPDF\n",
            "  Downloading PyMuPDF-1.24.2-cp311-none-win_amd64.whl.metadata (3.4 kB)\n",
            "Collecting PyMuPDFb==1.24.1 (from PyMuPDF)\n",
            "  Downloading PyMuPDFb-1.24.1-py3-none-win_amd64.whl.metadata (1.4 kB)\n",
            "Downloading PyMuPDF-1.24.2-cp311-none-win_amd64.whl (3.2 MB)\n",
            "   ---------------------------------------- 0.0/3.2 MB ? eta -:--:--\n",
            "   ---------------------------------------- 0.0/3.2 MB ? eta -:--:--\n",
            "   ---------------------------------------- 0.0/3.2 MB ? eta -:--:--\n",
            "   ---------------------------------------- 0.0/3.2 MB 262.6 kB/s eta 0:00:13\n",
            "   - -------------------------------------- 0.1/3.2 MB 508.4 kB/s eta 0:00:07\n",
            "   --- ------------------------------------ 0.2/3.2 MB 1.3 MB/s eta 0:00:03\n",
            "   ------ --------------------------------- 0.5/3.2 MB 2.1 MB/s eta 0:00:02\n",
            "   ------------ --------------------------- 1.0/3.2 MB 3.6 MB/s eta 0:00:01\n",
            "   ----------------------- ---------------- 1.9/3.2 MB 6.1 MB/s eta 0:00:01\n",
            "   --------------------------------- ------ 2.7/3.2 MB 7.5 MB/s eta 0:00:01\n",
            "   ---------------------------------------- 3.2/3.2 MB 8.2 MB/s eta 0:00:00\n",
            "Downloading PyMuPDFb-1.24.1-py3-none-win_amd64.whl (24.9 MB)\n",
            "   ---------------------------------------- 0.0/24.9 MB ? eta -:--:--\n",
            "   -- ------------------------------------- 1.4/24.9 MB 42.2 MB/s eta 0:00:01\n",
            "   -- ------------------------------------- 1.6/24.9 MB 17.3 MB/s eta 0:00:02\n",
            "   ------ --------------------------------- 3.8/24.9 MB 26.8 MB/s eta 0:00:01\n",
            "   ------- -------------------------------- 4.8/24.9 MB 23.4 MB/s eta 0:00:01\n",
            "   --------- ------------------------------ 5.6/24.9 MB 25.6 MB/s eta 0:00:01\n",
            "   --------- ------------------------------ 5.7/24.9 MB 18.3 MB/s eta 0:00:02\n",
            "   ------------ --------------------------- 8.0/24.9 MB 22.1 MB/s eta 0:00:01\n",
            "   -------------- ------------------------- 9.3/24.9 MB 24.8 MB/s eta 0:00:01\n",
            "   ----------------- ---------------------- 10.9/24.9 MB 24.2 MB/s eta 0:00:01\n",
            "   ------------------- -------------------- 12.1/24.9 MB 27.3 MB/s eta 0:00:01\n",
            "   -------------------- ------------------- 12.9/24.9 MB 26.2 MB/s eta 0:00:01\n",
            "   ---------------------- ----------------- 14.2/24.9 MB 24.2 MB/s eta 0:00:01\n",
            "   ------------------------ --------------- 15.4/24.9 MB 25.2 MB/s eta 0:00:01\n",
            "   -------------------------- ------------- 16.5/24.9 MB 29.8 MB/s eta 0:00:01\n",
            "   ---------------------------- ----------- 17.8/24.9 MB 27.3 MB/s eta 0:00:01\n",
            "   ----------------------------- ---------- 18.6/24.9 MB 26.2 MB/s eta 0:00:01\n",
            "   ------------------------------- -------- 19.9/24.9 MB 28.5 MB/s eta 0:00:01\n",
            "   --------------------------------- ------ 21.1/24.9 MB 25.2 MB/s eta 0:00:01\n",
            "   ----------------------------------- ---- 22.2/24.9 MB 25.2 MB/s eta 0:00:01\n",
            "   ------------------------------------- -- 23.6/24.9 MB 26.2 MB/s eta 0:00:01\n",
            "   ---------------------------------------  24.4/24.9 MB 25.2 MB/s eta 0:00:01\n",
            "   ---------------------------------------  24.9/24.9 MB 25.2 MB/s eta 0:00:01\n",
            "   ---------------------------------------- 24.9/24.9 MB 22.6 MB/s eta 0:00:00\n",
            "Installing collected packages: PyMuPDFb, PyMuPDF\n",
            "Successfully installed PyMuPDF-1.24.2 PyMuPDFb-1.24.1\n"
          ]
        }
      ],
      "source": [
        "import spacy\n",
        "import pickle\n",
        "import random\n",
        "import warnings\n",
        "warnings.filterwarnings(\"ignore\", category=UserWarning)\n",
        "from spacy.training.example import Example\n",
        "!pip install PyMuPDF\n",
        "import sys, fitz"
      ]
    },
    {
      "cell_type": "code",
      "execution_count": 2,
      "metadata": {
        "colab": {
          "base_uri": "https://localhost:8080/"
        },
        "id": "4tHUfk8CU-mP",
        "outputId": "c8986b74-a55e-4c8e-82a1-17615be1851f"
      },
      "outputs": [
        {
          "name": "stdout",
          "output_type": "stream",
          "text": [
            "3.7.4\n"
          ]
        }
      ],
      "source": [
        "print(spacy.__version__)"
      ]
    },
    {
      "cell_type": "code",
      "execution_count": 6,
      "metadata": {
        "id": "7JqU-UNOc65x"
      },
      "outputs": [],
      "source": [
        "train_data = pickle.load(open('train_data.pkl', 'rb'))"
      ]
    },
    {
      "cell_type": "code",
      "execution_count": 7,
      "metadata": {
        "id": "S4DIz2za3uhp"
      },
      "outputs": [],
      "source": [
        "nlp = spacy.blank('en')"
      ]
    },
    {
      "cell_type": "code",
      "execution_count": 8,
      "metadata": {
        "colab": {
          "base_uri": "https://localhost:8080/"
        },
        "id": "ywis1q2K4K93",
        "outputId": "2f220a35-4282-408b-b49e-f613543a636e"
      },
      "outputs": [
        {
          "name": "stdout",
          "output_type": "stream",
          "text": [
            "Iteration 0 starting...\n",
            "{'ner': 10696.012430361096}\n",
            "Iteration 1 starting...\n",
            "{'ner': 3303.5693580655516}\n",
            "Iteration 2 starting...\n",
            "{'ner': 2747.150214919343}\n",
            "Iteration 3 starting...\n",
            "{'ner': 2740.640053330895}\n",
            "Iteration 4 starting...\n",
            "{'ner': 2947.5751557315716}\n",
            "Iteration 5 starting...\n",
            "{'ner': 3677.713366558738}\n",
            "Iteration 6 starting...\n",
            "{'ner': 2554.4365836934903}\n",
            "Iteration 7 starting...\n",
            "{'ner': 2781.7435772676213}\n",
            "Iteration 8 starting...\n",
            "{'ner': 2202.5650490493417}\n",
            "Iteration 9 starting...\n",
            "{'ner': 2090.5911758059888}\n"
          ]
        }
      ],
      "source": [
        "def train_model(nlp, train_data):\n",
        "    # Check if the NER component is already in the pipeline\n",
        "    if 'ner' not in nlp.pipe_names:\n",
        "        ner = nlp.add_pipe('ner', last=True)\n",
        "    else:\n",
        "        ner = nlp.get_pipe('ner')\n",
        "\n",
        "    # Add labels to the NER component\n",
        "    for _, annotations in train_data:\n",
        "        for ent in annotations['entities']:\n",
        "            ner.add_label(ent[2])\n",
        "\n",
        "    # Disable other pipelines\n",
        "    other_pipes = [pipe for pipe in nlp.pipe_names if pipe != 'ner']\n",
        "\n",
        "    with nlp.disable_pipes(*other_pipes):\n",
        "        optimizer = nlp.begin_training()\n",
        "\n",
        "        for epoch in range(10):\n",
        "            print(f\"Iteration {epoch} starting...\")\n",
        "            random.shuffle(train_data)\n",
        "            losses = {}\n",
        "\n",
        "            for text, annotations in train_data:\n",
        "                try:\n",
        "                    example = Example.from_dict(nlp.make_doc(text), annotations)\n",
        "                    nlp.update([example], drop=0.5, losses=losses, sgd=optimizer)\n",
        "                except Exception as e:\n",
        "                    pass\n",
        "\n",
        "            print(losses)\n",
        "\n",
        "# Train the model\n",
        "train_model(nlp, train_data)"
      ]
    },
    {
      "cell_type": "code",
      "execution_count": 9,
      "metadata": {
        "id": "lbPMxSW-83qH"
      },
      "outputs": [],
      "source": [
        "nlp.to_disk('nlp_model2')"
      ]
    },
    {
      "cell_type": "code",
      "execution_count": 16,
      "metadata": {
        "id": "z2SZvsHKJPmQ"
      },
      "outputs": [],
      "source": [
        "nlp_model = spacy.load('nlp_model2')"
      ]
    },
    {
      "cell_type": "code",
      "execution_count": 19,
      "metadata": {
        "colab": {
          "base_uri": "https://localhost:8080/",
          "height": 139
        },
        "id": "zp2ZpDncJ3IY",
        "outputId": "a780de89-a1b8-4020-a47b-4d7716c3600d"
      },
      "outputs": [
        {
          "data": {
            "text/plain": [
              "'Puneeth R Escalation Specialist - HiPower Support Centre  Bengaluru, Karnataka - Email me on Indeed: indeed.com/r/Puneeth-R/bc332220e733906d  To be an asset to my organization by utilizing the recent improving trends and make optimum use of the available resources for the success of the company. More importantly, working harmoniously in a team to bring forth the best from self and everyone.  Willing to relocate: Anywhere  WORK EXPERIENCE  Escalation Specialist  HiPower Support Centre -  June 2015 to Present  Client: Machine Zone (Supporting 3 Games) Roles &amp; Responsibilities: • Escalating tickets to clients, Creating Inquiries regarding the process to receive update from Clients, Providing feedback to Agents regarding Clients Escalations and internal invalid Escalations. Team handling ( Mentor) • Tracking performances of the team members in terms of Production, Quality and CSAT. • Monitoring Queue, Allocating Agents to different queues, Preparing Reports, Process improvements initiatives. • Taking operations training sessions on Gameplay, DSAT reviews, Quality, FTR and Tickets handling. • Maintaining &amp; ensuring stringent adherence to quality standards, identifying gaps and opportunities by live assistance. Handled OJT and Tenured Team. • Handling Supervisor tickets, Lead compensations and Audits.  Sales Associate in Convergys  AT&T -  January 2014 to May 2015  Client: AT&amp;T Roles &amp; Responsibilities: • Addressing Customers Billing Inquiries and upselling over Chat. • Making Calls to customers in case of lead generations.  Process Executive - Operations in Infosys  Cisco -  August 2012 to November 2013  Client: Cisco  https://www.indeed.com/r/Puneeth-R/bc332220e733906d?isid=rex-download&ikw=download-top&co=IN   Contd., Roles &amp; Responsibilities: • Assisting Clients over Email and Phone regarding Billing discrepancies and Order Management. • CRM tool experience in Supporting and Reports generation.  Customer Relations Officer in HGS  -  December 2011 to July 2012  Client: MTS • Making calls to customers to review customer satisfaction and upselling. • Handled Escalations from Customers. • Taking Calls to address Customers Inquiries.  EDUCATION  B.E  PES College of Engineering -  Mandya, Karnataka'"
            ]
          },
          "execution_count": 19,
          "metadata": {},
          "output_type": "execute_result"
        }
      ],
      "source": [
        "train_data[0][0]"
      ]
    },
    {
      "cell_type": "code",
      "execution_count": 17,
      "metadata": {
        "colab": {
          "base_uri": "https://localhost:8080/"
        },
        "id": "FYrsUs8TJ5ud",
        "outputId": "73a3a6f5-874b-469a-f4f9-728709bf6106"
      },
      "outputs": [
        {
          "name": "stdout",
          "output_type": "stream",
          "text": [
            "NAME                          - Puneeth R\n",
            "DESIGNATION                   - Escalation Specialist\n",
            "LOCATION                      - Bengaluru\n",
            "DESIGNATION                   - Escalation Specialist\n",
            "COMPANIES WORKED AT           - Cisco\n",
            "COMPANIES WORKED AT           - Cisco\n",
            "DEGREE                        - B.E\n",
            "COLLEGE NAME                  - PES College of Engineering\n"
          ]
        }
      ],
      "source": [
        "doc = nlp_model(train_data[0][0])\n",
        "for ent in doc.ents:\n",
        "    print(f'{ent.label_.upper():{30}}- {ent.text}')"
      ]
    },
    {
      "cell_type": "code",
      "execution_count": 27,
      "metadata": {
        "colab": {
          "base_uri": "https://localhost:8080/"
        },
        "id": "IKOcrzACJ_44",
        "outputId": "2ef5b662-162d-48fc-b902-63ae5b194913"
      },
      "outputs": [
        {
          "name": "stdout",
          "output_type": "stream",
          "text": [
            "Tansu Gangopadhyay https:/ /tansu.github.io tansu@gmail.com | +91 9836968608 EDUCATION SRM UNIVERSITY B.Tech in Computer Science July 2025| Chennai,India CGPA-8.52 KALYANI PUBLIC SCHOOL Graduation in Science August 2021 | Kolkata, India Percentage-82.1 LINKS Github:// tansugangopadhyay LinkedIn:// tansugangopadhyay Twitter:// @tansuganguly Website:// tansugangopadhyay LeetCode:// tansugangopadhyay HackerRank:// tansugangopadhyay Instagram:// tansugangopadhyay COURSEWORK UNIVERSITY Data Structure Object Oriented Programming Analogue and Digital Electronics Programming For Problem Solving Computer Organization Computer Architecture C++ SCHOOL C Python JavaScript SKILLS PROGRAMMING Over 2000 lines: Python • Solidity • C Over 1000 lines: C++ • Java • CSS • HTML • JavaScript Familiar: Assembly • Rust • MySQL VOLUNTEER EXPERIENCE TEAM ENVISION | Blockchain Developer Jan 2022 - Present | Chennai, India • Created a NFT generator which can generate upto 600 unique NFT’s in less than 60 seconds • Participated in 6 hackathons and secured 2nd position in MesoHack • Created 50+ unique NFT’S through NFT generator for the organizers of Aaruush which is India’s 2nd largest Techno-Management Fest SKILLVERTEX | Cloud Engineer June 2022 – Dec 2022 | Chennai, India • Enhanced presentation and communication methods used for presenting projects’ capabilities to prospective clients • Proposed and created solution framework for 6 clients DIRECTOR OF ALUMNI AFFAIRS | UI/UX DESIGNER Aug 2021 – Nov 2022 | Chennai, India • Designed more than 15 posts for social media • Led a team of 12 people to organize a alumni meet PROJECTS NFT GENERATOR | Solidity, HTML, JavaScript • This Project can create unique NFT’s and can process more than 100 layers at once. • It can generate upto 600 unique NFT’s in less than 60 seconds.It allows the user to set rarity for NFT’s. HOSTEL MANAGEMENT SYSTEM | C++ • This project was made to simplify the management of students in Hostel. • This project can store 100’s of data of the students entered and also gives option to the user to search across the wide range of data. JUMBLED WORDS | PYTHON • This is a fun project in which there is a set of 15 words and after the user hits the start button the words get jumbled and the user has to click the jumbled words in right order. CERTIFICATIONS PROGRAMMING IN C | UNIVERSITY OF CALIFORNIA In this course i learnt about programming in C and made 2 projects in C language BLOCKCHAIN | UNIVERSITY OF BUFFALO This course taught me basics of blockchain and the minting process of NFT’s and learned in depth about ERC-20 HTML AND CSS | COURSERA PROJECT NETWORK This course taught to build websites with help of HTML and CSS \n"
          ]
        }
      ],
      "source": [
        "fname = 'sample2.pdf'\n",
        "doc = fitz.open(fname)\n",
        "text = \"\"\n",
        "for page in doc:\n",
        "    text += page.get_text(\"text\")\n",
        "#replace new line with space\n",
        "tx = \" \".join(text.split('\\n'))\n",
        "print(tx)"
      ]
    },
    {
      "cell_type": "code",
      "execution_count": 28,
      "metadata": {},
      "outputs": [
        {
          "name": "stdout",
          "output_type": "stream",
          "text": [
            "NAME                          - Tansu Gangopadhyay https:/ /tansu.github.io tansu@gmail.com | +91 9836968608 EDUCATION SRM UNIVERSITY\n",
            "DEGREE                        - B.Tech in Computer Science July 2025| Chennai,India CGPA-8.52 KALYANI PUBLIC SCHOOL Graduation in Science August 2021\n",
            "LOCATION                      - Kolkata\n"
          ]
        }
      ],
      "source": [
        "doc = nlp_model(tx)\n",
        "for ent in doc.ents:\n",
        "    print(f'{ent.label_.upper():{30}}- {ent.text}')"
      ]
    }
  ],
  "metadata": {
    "colab": {
      "provenance": []
    },
    "kernelspec": {
      "display_name": "Python 3",
      "name": "python3"
    },
    "language_info": {
      "codemirror_mode": {
        "name": "ipython",
        "version": 3
      },
      "file_extension": ".py",
      "mimetype": "text/x-python",
      "name": "python",
      "nbconvert_exporter": "python",
      "pygments_lexer": "ipython3",
      "version": "3.11.9"
    }
  },
  "nbformat": 4,
  "nbformat_minor": 0
}
